{
  "nbformat": 4,
  "nbformat_minor": 0,
  "metadata": {
    "colab": {
      "provenance": [],
      "authorship_tag": "ABX9TyNVJS4n396U1zJpMapM/snm",
      "include_colab_link": true
    },
    "kernelspec": {
      "name": "python3",
      "display_name": "Python 3"
    },
    "language_info": {
      "name": "python"
    }
  },
  "cells": [
    {
      "cell_type": "markdown",
      "metadata": {
        "id": "view-in-github",
        "colab_type": "text"
      },
      "source": [
        "<a href=\"https://colab.research.google.com/github/qwehoi/Association-for-Computational-Linguistics-ACL-conference-2-Copy-/blob/main/%E4%B8%80%E9%8D%B5%E5%AF%AB%E5%87%BA%E5%A4%A7%E8%AA%BF%E5%8C%85%E5%90%AB%E7%9A%84%E5%92%8C%E5%BC%A6.ipynb\" target=\"_parent\"><img src=\"https://colab.research.google.com/assets/colab-badge.svg\" alt=\"Open In Colab\"/></a>"
      ]
    },
    {
      "cell_type": "code",
      "execution_count": 6,
      "metadata": {
        "id": "N3pquad0VvmO",
        "outputId": "e8005901-779a-4377-d380-992eecb28707",
        "colab": {
          "base_uri": "https://localhost:8080/"
        }
      },
      "outputs": [
        {
          "output_type": "stream",
          "name": "stdout",
          "text": [
            "E F#m G#m A B C#m D#dim\n",
            "Ab Bbm Cm Db Eb Fm Gdim\n"
          ]
        }
      ],
      "source": [
        "# 定義音符名稱\n",
        "SHARP_NOTES = ['C', 'C#', 'D', 'D#', 'E', 'F', 'F#', 'G', 'G#', 'A', 'A#', 'B']\n",
        "FLAT_NOTES = ['C', 'Db', 'D', 'Eb', 'E', 'F', 'Gb', 'G', 'Ab', 'A', 'Bb', 'B']\n",
        "\n",
        "# 定義大調的音程結構（全全半全全全半）\n",
        "MAJOR_SCALE_INTERVALS = [2, 2, 1, 2, 2, 2, 1]\n",
        "\n",
        "# 定義和弦類型\n",
        "CHORD_TYPES = ['major', 'minor', 'minor', 'major', 'major', 'minor', 'diminished']\n",
        "\n",
        "def get_scale_notes(root_note, use_sharps=True):\n",
        "    \"\"\"根據根音獲取大調的音階音符，並選擇使用升號或降號\"\"\"\n",
        "    if use_sharps:\n",
        "        notes = SHARP_NOTES\n",
        "    else:\n",
        "        notes = FLAT_NOTES\n",
        "    # 將根音轉換為大寫，但保留 # 和 b\n",
        "    root_note_upper = root_note[0].upper() + (root_note[1:] if len(root_note) > 1 else '')\n",
        "    root_index = notes.index(root_note_upper)\n",
        "    scale_notes = []\n",
        "    current_index = root_index\n",
        "    for interval in MAJOR_SCALE_INTERVALS:\n",
        "        scale_notes.append(notes[current_index % 12])\n",
        "        current_index += interval\n",
        "    return scale_notes\n",
        "\n",
        "def get_chord_name(root_note, chord_type):\n",
        "    \"\"\"根據根音和和弦類型生成和弦名稱，保留 # 和 b\"\"\"\n",
        "    # 保留 # 和 b 的原始大小寫\n",
        "    root_note_upper = root_note[0].upper() + (root_note[1:] if len(root_note) > 1 else '')\n",
        "    if chord_type == 'major':\n",
        "        return root_note_upper\n",
        "    elif chord_type == 'minor':\n",
        "        return root_note_upper + 'm'\n",
        "    elif chord_type == 'diminished':\n",
        "        return root_note_upper + 'dim'\n",
        "    else:\n",
        "        return root_note_upper\n",
        "\n",
        "def get_chords_in_key(root_note):\n",
        "    \"\"\"根據調性獲取所有和弦，並選擇正確的音符命名規則\"\"\"\n",
        "    # 判斷調性使用升號還是降號\n",
        "    sharp_keys = ['C', 'G', 'D', 'A', 'E', 'B', 'F#']\n",
        "    flat_keys = ['F', 'Bb', 'Eb', 'Ab', 'Db', 'Gb']\n",
        "    if root_note.upper() in [key.upper() for key in sharp_keys]:\n",
        "        use_sharps = True\n",
        "    elif root_note.upper() in [key.upper() for key in flat_keys]:\n",
        "        use_sharps = False\n",
        "    else:\n",
        "        raise ValueError(f\"Invalid root note: {root_note}\")\n",
        "\n",
        "    # 獲取音階音符\n",
        "    scale_notes = get_scale_notes(root_note, use_sharps)\n",
        "\n",
        "    # 生成和弦名稱\n",
        "    chords = []\n",
        "    for i in range(len(scale_notes)):\n",
        "        chord_name = get_chord_name(scale_notes[i], CHORD_TYPES[i])\n",
        "        chords.append(chord_name)\n",
        "    return chords\n",
        "\n",
        "# 示例使用\n",
        "root_note = 'E'  # 調性為 F Major\n",
        "chords = get_chords_in_key(root_note)\n",
        "print(' '.join(chords))  # 輸出：F Gm Am Bb C Dm Edim\n",
        "\n",
        "# 測試 Bb 大調\n",
        "root_note = 'Ab'\n",
        "chords = get_chords_in_key(root_note)\n",
        "print(' '.join(chords))  # 輸出：Bb Cm Dm Eb F Gm Adim\n"
      ]
    }
  ]
}